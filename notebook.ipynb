{
  "nbformat": 4,
  "nbformat_minor": 0,
  "metadata": {
    "colab": {
      "provenance": []
    },
    "kernelspec": {
      "name": "python3",
      "display_name": "Python 3"
    },
    "language_info": {
      "name": "python"
    },
    "accelerator": "GPU",
    "gpuClass": "standard"
  },
  "cells": [
    {
      "cell_type": "markdown",
      "source": [
        "## Prerequisites\n",
        "\n",
        "- Download political dataset from GitHub repository.\n",
        "- Install Hugging Face transformers library.\n",
        "- Import modules used in the code."
      ],
      "metadata": {
        "id": "7faprjTKTP-6"
      }
    },
    {
      "cell_type": "code",
      "execution_count": 401,
      "metadata": {
        "id": "MwrmzG-WyGJ9"
      },
      "outputs": [],
      "source": [
        "!git clone -q https://github.com/acmucsd-projects/fa22-ai-team-2\n",
        "!pip install -q transformers"
      ]
    },
    {
      "cell_type": "code",
      "source": [
        "import matplotlib.pyplot as plt\n",
        "import numpy as np\n",
        "import pandas as pd\n",
        "import seaborn as sns\n",
        "import torch\n",
        "import torch.nn as nn\n",
        "import torch.nn.functional as F\n",
        "\n",
        "from collections import defaultdict\n",
        "from matplotlib import rcParams\n",
        "from sklearn.model_selection import train_test_split\n",
        "from torch.utils.data import DataLoader, Dataset\n",
        "from transformers import BertModel, BertTokenizer\n",
        "from transformers import get_linear_schedule_with_warmup"
      ],
      "metadata": {
        "id": "9zOBKP8H7cha"
      },
      "execution_count": 384,
      "outputs": []
    },
    {
      "cell_type": "markdown",
      "source": [
        "## Loading Dataset"
      ],
      "metadata": {
        "id": "pi-rP5_XUBdw"
      }
    },
    {
      "cell_type": "code",
      "source": [
        "path = 'fa22-ai-team-2/data.csv'"
      ],
      "metadata": {
        "id": "HK6IPYZs7Z-6"
      },
      "execution_count": 402,
      "outputs": []
    },
    {
      "cell_type": "code",
      "source": [
        "def load_dataset(csv_path) :\n",
        "\n",
        "  df = pd.read_csv(csv_path)\n",
        "\n",
        "  cols = ['Title', 'Political Lean', 'Text']\n",
        "  title, political_lean, text = map(df.get, cols)\n",
        "\n",
        "  texts, remove_newline = [], lambda T: T.replace('\\n', '')\n",
        "  for i in df.index :\n",
        "    if type(text[i]) == float :\n",
        "      new_text = remove_newline(title[i])\n",
        "    else :\n",
        "      new_text = ' '.join(map(remove_newline, (title[i], text[i])))\n",
        "    texts.append(new_text)\n",
        "\n",
        "  labels = political_lean.replace(['Liberal', 'Conservative'], [0, 1])\n",
        "\n",
        "  return pd.DataFrame({'label': labels, 'text': texts})"
      ],
      "metadata": {
        "id": "5oQFtt6-COf_"
      },
      "execution_count": 403,
      "outputs": []
    },
    {
      "cell_type": "code",
      "source": [
        "df = load_dataset(path)"
      ],
      "metadata": {
        "id": "_mU1GxK31Ws_"
      },
      "execution_count": 404,
      "outputs": []
    },
    {
      "cell_type": "markdown",
      "source": [
        "## Variable Configuration"
      ],
      "metadata": {
        "id": "N8Cptf2TUZj_"
      }
    },
    {
      "cell_type": "code",
      "source": [
        "pretrained_model_name = 'bert-base-cased'\n",
        "tokenizer = BertTokenizer.from_pretrained(pretrained_model_name)\n",
        "bert_model = BertModel.from_pretrained(pretrained_model_name)"
      ],
      "metadata": {
        "id": "OIA83tu7dop_"
      },
      "execution_count": null,
      "outputs": []
    },
    {
      "cell_type": "code",
      "source": [
        "device = torch.device(\"cuda:0\" if torch.cuda.is_available() else \"cpu\")\n",
        "n_classes = 2\n",
        "maximum_word_length = 50\n",
        "random_seed = 42\n",
        "batch_size = 8\n",
        "num_epochs = 4"
      ],
      "metadata": {
        "id": "q-ttKhWnFUBm"
      },
      "execution_count": 340,
      "outputs": []
    },
    {
      "cell_type": "markdown",
      "source": [
        "## Generate DataLoader"
      ],
      "metadata": {
        "id": "NG3u2S7sVs3x"
      }
    },
    {
      "cell_type": "code",
      "source": [
        "class RedditDataset(Dataset) :\n",
        "\n",
        "  def __init__(self, texts, labels, tokenizer, max_len) :\n",
        "    self.texts = texts\n",
        "    self.labels = labels\n",
        "    self.tokenizer = tokenizer\n",
        "    self.max_len = max_len\n",
        "\n",
        "  def __len__(self) :\n",
        "    return len(self.texts)\n",
        "\n",
        "  def __getitem__(self, item) :\n",
        "    text = str(self.texts[item])\n",
        "    label = self.labels[item]\n",
        "\n",
        "    encoding = self.tokenizer.encode_plus(\n",
        "      text, max_length=self.max_len,\n",
        "      padding='max_length',\n",
        "      truncation=True,\n",
        "      add_special_tokens=True,\n",
        "      return_token_type_ids=False,\n",
        "      return_attention_mask=True,\n",
        "      return_tensors='pt'\n",
        "    )\n",
        "\n",
        "    return {\n",
        "      'text': text, \n",
        "      'input_ids': encoding['input_ids'].flatten(),\n",
        "      'attention_mask': encoding['attention_mask'].flatten(),\n",
        "      'label': torch.tensor(label, dtype=torch.long)\n",
        "    }"
      ],
      "metadata": {
        "id": "5goX_M9PFq0w"
      },
      "execution_count": 341,
      "outputs": []
    },
    {
      "cell_type": "code",
      "source": [
        "df_train, df_test = train_test_split(\n",
        "    df, \n",
        "    test_size=0.3,\n",
        "    random_state=random_seed\n",
        ")\n",
        "\n",
        "df_valid, df_test = train_test_split(\n",
        "    df_test, \n",
        "    test_size=0.4,\n",
        "    random_state=random_seed\n",
        ")"
      ],
      "metadata": {
        "id": "UVxL9neeGch9"
      },
      "execution_count": 342,
      "outputs": []
    },
    {
      "cell_type": "code",
      "source": [
        "def create_dataloader(df, tokenizer, max_len, batch_size) :\n",
        "\n",
        "  dataset = RedditDataset(\n",
        "    texts = df.text.to_numpy(),\n",
        "    labels = df.label.to_numpy(),\n",
        "    tokenizer=tokenizer,\n",
        "    max_len=max_len\n",
        "  )\n",
        "\n",
        "  return DataLoader(\n",
        "    dataset,\n",
        "    batch_size=batch_size\n",
        "  )\n",
        "\n",
        "train_dataloader = create_dataloader(df_train, tokenizer, maximum_word_length, batch_size)\n",
        "valid_dataloader = create_dataloader(df_valid, tokenizer, maximum_word_length, batch_size)\n",
        "test_dataloader  = create_dataloader(df_test,  tokenizer, maximum_word_length, batch_size)"
      ],
      "metadata": {
        "id": "yNn0AWKsGrrG"
      },
      "execution_count": 343,
      "outputs": []
    },
    {
      "cell_type": "markdown",
      "source": [
        "## Sentiment Classification Model Using BERT"
      ],
      "metadata": {
        "id": "rZyOpVY9U5Xg"
      }
    },
    {
      "cell_type": "code",
      "source": [
        "class SentimentClassifier(nn.Module) :\n",
        "\n",
        "  def __init__(self, n_classes) :\n",
        "\n",
        "    super(SentimentClassifier, self).__init__()\n",
        "    \n",
        "    self.BERT = BertModel.from_pretrained(pretrained_model_name)\n",
        "    self.dropout = nn.Dropout(p=0.3)\n",
        "    self.fc = nn.Linear(self.BERT.config.hidden_size, n_classes)\n",
        "\n",
        "  def forward(self, input_ids, attention_mask) :\n",
        "    _, pooled_output = self.BERT(\n",
        "      input_ids=input_ids,\n",
        "      attention_mask=attention_mask,\n",
        "      return_dict=False\n",
        "    )\n",
        "    output = self.dropout(pooled_output)\n",
        "    return self.fc(output)"
      ],
      "metadata": {
        "id": "8wdG3DN5G8Qb"
      },
      "execution_count": 344,
      "outputs": []
    },
    {
      "cell_type": "code",
      "source": [
        "model = SentimentClassifier(n_classes)\n",
        "model = model.to(device)"
      ],
      "metadata": {
        "id": "2z0VjSAuHk0l"
      },
      "execution_count": null,
      "outputs": []
    },
    {
      "cell_type": "markdown",
      "source": [
        "## Model Training Tools"
      ],
      "metadata": {
        "id": "qG5s1MvnU_Sf"
      }
    },
    {
      "cell_type": "code",
      "source": [
        "optim = torch.optim.RAdam(model.parameters(), lr=5e-5, weight_decay=1e-4)\n",
        "\n",
        "loss_fn = nn.BCEWithLogitsLoss().to(device)\n",
        "\n",
        "total_steps = len(train_dataloader) * num_epochs\n",
        "scheduler = get_linear_schedule_with_warmup(\n",
        "    optim,\n",
        "    num_warmup_steps=0,\n",
        "    num_training_steps=total_steps\n",
        ")"
      ],
      "metadata": {
        "id": "vAC-vGXVHplJ"
      },
      "execution_count": 346,
      "outputs": []
    },
    {
      "cell_type": "code",
      "source": [
        "def train_epoch(model, dataloader, optim, loss_fn, device, scheduler, n_examples) :\n",
        "\n",
        "  model = model.train()\n",
        "\n",
        "  iter, threshold = 0, 0.1\n",
        "  losses = []\n",
        "  correct_pred = 0\n",
        "\n",
        "  for d in dataloader :\n",
        "\n",
        "    input_ids = d['input_ids'].to(device)\n",
        "    attention_mask = d['attention_mask'].to(device)\n",
        "\n",
        "    labels = d['label'].to(device)\n",
        "    encoded_labels = torch.eye(2)[d['label']].to(device)\n",
        "\n",
        "    outputs = model(input_ids=input_ids,\n",
        "                  attention_mask=attention_mask)\n",
        "    \n",
        "    _, preds = torch.max(outputs, dim=1)\n",
        "    loss = loss_fn(outputs, encoded_labels)\n",
        "\n",
        "    correct_pred += torch.sum(preds == labels)\n",
        "    losses.append(loss.item())\n",
        "\n",
        "    loss.backward()\n",
        "    nn.utils.clip_grad_norm_(model.parameters(), max_norm=1.0)\n",
        "    optim.step()\n",
        "    scheduler.step()\n",
        "    optim.zero_grad()\n",
        "\n",
        "    if iter > threshold * len(dataloader) :\n",
        "      print(f'Iteration {iter}/{len(dataloader)}')\n",
        "      threshold += 0.1\n",
        "    iter += 1\n",
        "\n",
        "  return correct_pred.double() / n_examples, np.mean(losses)"
      ],
      "metadata": {
        "id": "emrMtqcDHzjv"
      },
      "execution_count": 347,
      "outputs": []
    },
    {
      "cell_type": "code",
      "source": [
        "def eval_epoch(model, dataloader, loss_fn, device, n_examples) :\n",
        "\n",
        "  model = model.eval()\n",
        "\n",
        "  losses = []\n",
        "  correct_pred = 0\n",
        "  history = []\n",
        "\n",
        "  with torch.no_grad() :\n",
        "\n",
        "    for d in dataloader :\n",
        "\n",
        "      input_ids = d['input_ids'].to(device)\n",
        "      attention_mask = d['attention_mask'].to(device)\n",
        "\n",
        "      labels = d['label'].to(device)\n",
        "      encoded_labels = torch.eye(2)[d['label']].to(device)\n",
        "\n",
        "      outputs = model(input_ids=input_ids, \n",
        "                      attention_mask=attention_mask)\n",
        "      \n",
        "      _, preds = torch.max(outputs, dim=1)\n",
        "      loss = loss_fn(outputs, encoded_labels)\n",
        "\n",
        "      correct_pred += torch.sum(preds == labels)\n",
        "      losses.append(loss.item())\n",
        "      history.append((preds, labels))\n",
        "  \n",
        "  return correct_pred.double() / n_examples, np.mean(losses), history"
      ],
      "metadata": {
        "id": "QP_P05hnH2Q7"
      },
      "execution_count": 348,
      "outputs": []
    },
    {
      "cell_type": "markdown",
      "source": [
        "## Model Training"
      ],
      "metadata": {
        "id": "eiwcQiRDVYpI"
      }
    },
    {
      "cell_type": "code",
      "source": [
        "history = defaultdict(list)\n",
        "best_accuracy = 0\n",
        "\n",
        "for epoch in range(num_epochs) :\n",
        "\n",
        "  print(f'Epoch {epoch+1}/{num_epochs}')\n",
        "  print('-' * 10)\n",
        "\n",
        "  train_acc, train_loss = train_epoch(\n",
        "      model, train_dataloader, optim, loss_fn,\n",
        "      device, scheduler, len(df_train)\n",
        "  )\n",
        "\n",
        "  print(f'Train Loss: {train_loss:.3f}\\tAccuracy: {train_acc:.3f}')\n",
        "\n",
        "  valid_acc, valid_loss, _ = eval_epoch(\n",
        "      model, valid_dataloader, loss_fn,\n",
        "      device, len(df_valid)\n",
        "  )\n",
        "\n",
        "  print(f'Valid Loss: {valid_loss:.3f}\\tAccuracy: {valid_acc:.3f}')\n",
        "  print()\n",
        "\n",
        "  history['train_acc'].append(train_acc)\n",
        "  history['train_loss'].append(train_loss)\n",
        "  history['valid_acc'].append(valid_acc)\n",
        "  history['valid_loss'].append(valid_loss)"
      ],
      "metadata": {
        "id": "PA2cNyG0H4Mk",
        "colab": {
          "base_uri": "https://localhost:8080/"
        },
        "outputId": "564b9fdc-1b3d-4ff4-b7a5-1530cc588e9e"
      },
      "execution_count": 349,
      "outputs": [
        {
          "output_type": "stream",
          "name": "stdout",
          "text": [
            "Epoch 1/4\n",
            "----------\n",
            "Iteration 113/1125\n",
            "Iteration 226/1125\n",
            "Iteration 338/1125\n",
            "Iteration 451/1125\n",
            "Iteration 563/1125\n",
            "Iteration 676/1125\n",
            "Iteration 788/1125\n",
            "Iteration 900/1125\n",
            "Iteration 1013/1125\n",
            "Train Loss: 0.585\tAccuracy: 0.702\n",
            "Valid Loss: 0.541\tAccuracy: 0.757\n",
            "\n",
            "Epoch 2/4\n",
            "----------\n",
            "Iteration 113/1125\n",
            "Iteration 226/1125\n",
            "Iteration 338/1125\n",
            "Iteration 451/1125\n",
            "Iteration 563/1125\n",
            "Iteration 676/1125\n",
            "Iteration 788/1125\n",
            "Iteration 900/1125\n",
            "Iteration 1013/1125\n",
            "Train Loss: 0.457\tAccuracy: 0.810\n",
            "Valid Loss: 0.795\tAccuracy: 0.761\n",
            "\n",
            "Epoch 3/4\n",
            "----------\n",
            "Iteration 113/1125\n",
            "Iteration 226/1125\n",
            "Iteration 338/1125\n",
            "Iteration 451/1125\n",
            "Iteration 563/1125\n",
            "Iteration 676/1125\n",
            "Iteration 788/1125\n",
            "Iteration 900/1125\n",
            "Iteration 1013/1125\n",
            "Train Loss: 0.338\tAccuracy: 0.887\n",
            "Valid Loss: 0.958\tAccuracy: 0.770\n",
            "\n",
            "Epoch 4/4\n",
            "----------\n",
            "Iteration 113/1125\n",
            "Iteration 226/1125\n",
            "Iteration 338/1125\n",
            "Iteration 451/1125\n",
            "Iteration 563/1125\n",
            "Iteration 676/1125\n",
            "Iteration 788/1125\n",
            "Iteration 900/1125\n",
            "Iteration 1013/1125\n",
            "Train Loss: 0.228\tAccuracy: 0.936\n",
            "Valid Loss: 0.983\tAccuracy: 0.780\n",
            "\n"
          ]
        }
      ]
    },
    {
      "cell_type": "markdown",
      "source": [
        "## Calculate Testing Accuracy of the Model"
      ],
      "metadata": {
        "id": "JKxznDKWVdJa"
      }
    },
    {
      "cell_type": "code",
      "source": [
        "test_acc, _, acc = eval_epoch(\n",
        "  model,\n",
        "  test_dataloader,\n",
        "  loss_fn,\n",
        "  device,\n",
        "  len(df_test)\n",
        ")\n",
        "test_acc.item()"
      ],
      "metadata": {
        "id": "9H5mni-WIDBo",
        "colab": {
          "base_uri": "https://localhost:8080/"
        },
        "outputId": "946df5fc-9ccc-47a0-d152-e70e76133698"
      },
      "execution_count": 350,
      "outputs": [
        {
          "output_type": "execute_result",
          "data": {
            "text/plain": [
              "0.7990926766040182"
            ]
          },
          "metadata": {},
          "execution_count": 350
        }
      ]
    },
    {
      "cell_type": "markdown",
      "source": [
        "## Result Visualizations"
      ],
      "metadata": {
        "id": "GqvgmGHMYyzN"
      }
    },
    {
      "cell_type": "code",
      "source": [
        "hist2val = lambda hist: [float(t) for t in hist]"
      ],
      "metadata": {
        "id": "qbCgB60OiRcG"
      },
      "execution_count": 366,
      "outputs": []
    },
    {
      "cell_type": "code",
      "source": [
        "for hist in history.values() :\n",
        "  sns.lineplot(x=range(num_epochs), y=hist2val(hist))\n",
        "\n",
        "rcParams['figure.figsize'] = 12, 8\n",
        "plt.legend(['Train Accuracy', 'Train Loss',\n",
        "            'Validation Accuracy', 'Validation Loss'])\n",
        "plt.xlabel('Epochs', fontsize=14)"
      ],
      "metadata": {
        "colab": {
          "base_uri": "https://localhost:8080/",
          "height": 520
        },
        "id": "xVcqWF-3hylk",
        "outputId": "240192f7-0141-4e08-cc06-916279d3dfc5"
      },
      "execution_count": 386,
      "outputs": [
        {
          "output_type": "execute_result",
          "data": {
            "text/plain": [
              "Text(0.5, 0, 'Epochs')"
            ]
          },
          "metadata": {},
          "execution_count": 386
        },
        {
          "output_type": "display_data",
          "data": {
            "text/plain": [
              "<Figure size 864x576 with 1 Axes>"
            ],
            "image/png": "[encoded data removed]"
          },
          "metadata": {}
        }
      ]
    },
    {
      "cell_type": "code",
      "source": [
        "val_00, val_01, val_10, val_11 = 0, 0, 0, 0\n",
        "\n",
        "for step in acc :\n",
        "  for (i, z) in zip(*step) :\n",
        "    i, z = int(i), int(z)\n",
        "    if i == z :\n",
        "      if i == 0 :\n",
        "        val_00 += 1\n",
        "      else :\n",
        "        val_11 += 1\n",
        "    else :\n",
        "      if i == 0 :\n",
        "        val_01 += 1\n",
        "      else :\n",
        "        val_10 += 1"
      ],
      "metadata": {
        "id": "oeByXgvdvr-X"
      },
      "execution_count": 351,
      "outputs": []
    },
    {
      "cell_type": "code",
      "source": [
        "res = np.array([[val_00, val_01],\n",
        "                [val_10, val_11]])\n",
        "\n",
        "sns.heatmap(res/sum(res), annot=True, cmap='YlGnBu',\n",
        "            xticklabels=['Liberal', 'Conservative'],\n",
        "            yticklabels=['Conservative', 'Liberal'])"
      ],
      "metadata": {
        "colab": {
          "base_uri": "https://localhost:8080/",
          "height": 502
        },
        "id": "6rjIm3s3wsnI",
        "outputId": "6515f442-481c-4bae-ce64-e5ea167f6df8"
      },
      "execution_count": 396,
      "outputs": [
        {
          "output_type": "execute_result",
          "data": {
            "text/plain": [
              "<matplotlib.axes._subplots.AxesSubplot at 0x7f78004aeee0>"
            ]
          },
          "metadata": {},
          "execution_count": 396
        },
        {
          "output_type": "display_data",
          "data": {
            "text/plain": [
              "<Figure size 864x576 with 2 Axes>"
            ],
            "image/png": "[encoded data removed]"
          },
          "metadata": {}
        }
      ]
    }
  ]
}